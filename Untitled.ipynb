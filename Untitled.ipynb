{
 "cells": [
  {
   "cell_type": "markdown",
   "metadata": {},
   "source": [
    "## Temporal network"
   ]
  },
  {
   "cell_type": "code",
   "execution_count": 1,
   "metadata": {
    "collapsed": true
   },
   "outputs": [],
   "source": [
    "import numpy as np\n",
    "import pandas as pd\n",
    "import matplotlib.pyplot as plt\n",
    "import math\n",
    "from datetime import datetime\n",
    "import pytz\n"
   ]
  },
  {
   "cell_type": "markdown",
   "metadata": {},
   "source": [
    "### Read dataset"
   ]
  },
  {
   "cell_type": "code",
   "execution_count": 2,
   "metadata": {
    "collapsed": true
   },
   "outputs": [],
   "source": [
    "data = []\n",
    "\n",
    "for l in open(\"CollegeMsg.txt\"):\n",
    "    row = [int(x) for x in l.split()]\n",
    "    if len(row) > 0:\n",
    "        data.append(row)\n",
    "\n",
    "data = np.array(data)\n",
    "sender = data.T[0]\n",
    "receiver = data.T[1]\n",
    "timestamp = data.T[2]\n",
    "num = np.size(timestamp)\n",
    "day = 195"
   ]
  },
  {
   "cell_type": "markdown",
   "metadata": {},
   "source": [
    "### Get time"
   ]
  },
  {
   "cell_type": "code",
   "execution_count": 3,
   "metadata": {
    "collapsed": true
   },
   "outputs": [],
   "source": [
    "time_formulate = np.zeros([np.size(timestamp),6])\n",
    "for i in range(np.size(timestamp)):\n",
    "    time_formulate[i,0] = datetime.fromtimestamp(timestamp[i]-3600*7,pytz.timezone('UTC')).month\n",
    "    time_formulate[i,1] = datetime.fromtimestamp(timestamp[i]-3600*7,pytz.timezone('UTC')).day\n",
    "    time_formulate[i,2] = datetime.fromtimestamp(timestamp[i]-3600*7,pytz.timezone('UTC')).weekday()+1\n",
    "    time_formulate[i,3] = datetime.fromtimestamp(timestamp[i]-3600*7,pytz.timezone('UTC')).hour\n",
    "    time_formulate[i,4] = datetime.fromtimestamp(timestamp[i]-3600*7,pytz.timezone('UTC')).minute    \n",
    "    if time_formulate[i,0] >= 4:\n",
    "        time_formulate[i,5] = time_formulate[i,1]\n",
    "    if time_formulate[i,0] >= 5:\n",
    "        time_formulate[i,5] = time_formulate[i,5] + 30\n",
    "    if time_formulate[i,0] >= 6:\n",
    "        time_formulate[i,5] = time_formulate[i,5] + 31\n",
    "    if time_formulate[i,0] >= 7:\n",
    "        time_formulate[i,5] = time_formulate[i,5] + 30\n",
    "    if time_formulate[i,0] >= 8:\n",
    "        time_formulate[i,5] = time_formulate[i,5] + 31\n",
    "    if time_formulate[i,0] >= 9:\n",
    "        time_formulate[i,5] = time_formulate[i,5] + 31\n",
    "    if time_formulate[i,0] >= 10:\n",
    "        time_formulate[i,5] = time_formulate[i,5] + 30\n",
    "time_formulate[:,5] = time_formulate[:,5] - min(time_formulate[:,5])\n",
    "days = time_formulate[:,5]\n"
   ]
  },
  {
   "cell_type": "markdown",
   "metadata": {},
   "source": [
    "### Create link matrix"
   ]
  },
  {
   "cell_type": "code",
   "execution_count": 4,
   "metadata": {
    "collapsed": false
   },
   "outputs": [
    {
     "name": "stdout",
     "output_type": "stream",
     "text": [
      "number of nodes:  1899\n"
     ]
    }
   ],
   "source": [
    "# create matrix\n",
    "size = np.max([np.max(sender),np.max(receiver)])\n",
    "print(\"number of nodes: \",size) #number of nodes\n",
    "\n",
    "#create link matrix(obly upper half)\n",
    "m = np.zeros([size,size])\n",
    "for i in range(np.size(sender)):\n",
    "    m[sender[i]-1,receiver[i]-1] = m[sender[i]-1,receiver[i]-1] + 1\n"
   ]
  },
  {
   "cell_type": "markdown",
   "metadata": {},
   "source": [
    "### Create dictionary"
   ]
  },
  {
   "cell_type": "code",
   "execution_count": 5,
   "metadata": {
    "collapsed": true
   },
   "outputs": [],
   "source": [
    "dic = {}\n",
    "df = pd.DataFrame({'send':sender,'receive':receiver,'day':days})\n",
    "\n",
    "for i in range(num):\n",
    "    dic[i] = np.array([np.array(df[df['day']==i].send),np.array(df[df['day']==i].receive)]).T\n"
   ]
  },
  {
   "cell_type": "markdown",
   "metadata": {},
   "source": [
    "### Spreading function"
   ]
  },
  {
   "cell_type": "code",
   "execution_count": 6,
   "metadata": {
    "collapsed": true
   },
   "outputs": [],
   "source": [
    "def one_step_infect(old_set,day,dic,imu_set):\n",
    "    new_set = old_set\n",
    "    a = dic[day]\n",
    "    for i in range(np.size(a,0)):\n",
    "        if a[i,0] in old_set and a[i,0] not in imu_set:\n",
    "            new_set.add(a[i,1])\n",
    "    return new_set\n",
    "\n",
    "def infection(seed,dic,start_day,imu_set):\n",
    "    infect_set = set([seed])\n",
    "    li = []\n",
    "    \n",
    "    # no infection before start_day\n",
    "    for i in range(start_day):\n",
    "        li.append(0)\n",
    "        \n",
    "    # start infection\n",
    "    for i in range(start_day,195):\n",
    "        infect_set = one_step_infect(infect_set,i,dic,imu_set)\n",
    "        li.append(len(infect_set))\n",
    "    return li"
   ]
  },
  {
   "cell_type": "markdown",
   "metadata": {},
   "source": [
    "### Initialize start day"
   ]
  },
  {
   "cell_type": "code",
   "execution_count": 9,
   "metadata": {
    "collapsed": false
   },
   "outputs": [
    {
     "name": "stdout",
     "output_type": "stream",
     "text": [
      "start day: 100 user num: 1765\n"
     ]
    }
   ],
   "source": [
    "# select start_day\n",
    "    \n",
    "imu_num = 100\n",
    "start_day = 100\n",
    "# get available user set\n",
    "user_set = set()\n",
    "for i in range(start_day):\n",
    "    for j in dic[i]:\n",
    "        user_set.add(j[0])\n",
    "        user_set.add(j[1])\n",
    "\n",
    "user_num = len(user_set)\n",
    "user_set = list(user_set)\n",
    "print(\"start day:\", start_day, \"user num:\", user_num)\n",
    "    \n",
    "# empty set and early register set\n",
    "imu_empty = set()\n",
    "imu_early = set(np.arange(imu_num))\n",
    "    "
   ]
  },
  {
   "cell_type": "markdown",
   "metadata": {},
   "source": [
    "### Get frequent users"
   ]
  },
  {
   "cell_type": "code",
   "execution_count": 22,
   "metadata": {
    "collapsed": false
   },
   "outputs": [],
   "source": [
    "# get 50 frequent user set\n",
    "send_num = np.zeros(user_num)\n",
    "receive_num = np.zeros(user_num)\n",
    "\n",
    "for i in range(start_day):\n",
    "    for j in dic[i]:\n",
    "        send_num[j[0]-1] = send_num[j[0]-1] + 1\n",
    "        receive_num[j[1]-1] = receive_num[j[1]-1] + 1\n",
    "\n",
    "send_num_sort = np.argsort(send_num)\n",
    "receive_num_sort = np.argsort(receive_num)\n",
    "send_num_top = np.zeros(imu_num)\n",
    "receive_num_top = np.zeros(imu_num)\n",
    "for i in range(imu_num):\n",
    "    receive_num_top[i] = receive_num_sort[-i-1]\n",
    "    send_num_top[i] = send_num_sort[-i-1]  \n",
    "                      \n",
    "imu_freq_r = set(receive_num_top)\n",
    "imu_freq_s = set(send_num_top)\n"
   ]
  },
  {
   "cell_type": "markdown",
   "metadata": {},
   "source": [
    "### Get large degree user"
   ]
  },
  {
   "cell_type": "code",
   "execution_count": 23,
   "metadata": {
    "collapsed": false
   },
   "outputs": [],
   "source": [
    "# get 50 large degree user\n",
    "m_1 = np.zeros([user_num,user_num])\n",
    "for i in range(start_day):\n",
    "    for j in dic[i]:\n",
    "        m_1[j[0]-1,j[1]-1] = 1\n",
    "\n",
    "send_degree = sum(m_1.T)\n",
    "receive_degree = sum(m_1)\n",
    "\n",
    "send_degree_sort = np.argsort(send_degree)\n",
    "receive_degree_sort = np.argsort(receive_degree)\n",
    "send_degree_top = np.zeros(imu_num)\n",
    "receive_degree_top = np.zeros(imu_num)\n",
    "for i in range(imu_num):\n",
    "    receive_degree_top[i] = receive_degree_sort[-i-1]\n",
    "    send_degree_top[i] = send_degree_sort[-i-1]  \n",
    "\n",
    "imu_degree_r = set(receive_degree_top)\n",
    "imu_degree_s = set(send_degree_top)\n"
   ]
  },
  {
   "cell_type": "markdown",
   "metadata": {},
   "source": [
    "### Get active user"
   ]
  },
  {
   "cell_type": "code",
   "execution_count": 24,
   "metadata": {
    "collapsed": false
   },
   "outputs": [],
   "source": [
    "send_active = np.zeros([user_num,start_day])\n",
    "receive_active = np.zeros([user_num,start_day])\n",
    "for i in range(start_day):\n",
    "    for j in dic[i]:\n",
    "        send_active[j[0]-1,i] = 1\n",
    "        receive_active[j[1]-1,i] = 1\n",
    "\n",
    "send_active = sum(send_active.T)\n",
    "receive_active = sum(receive_active.T)\n",
    "\n",
    "send_active_sort = np.argsort(send_active)\n",
    "receive_active_sort = np.argsort(receive_active)\n",
    "send_active_top = np.zeros(imu_num)\n",
    "receive_active_top = np.zeros(imu_num)\n",
    "for i in range(imu_num):\n",
    "    receive_active_top[i] = receive_active_sort[-i-1]\n",
    "    send_active_top[i] = send_active_sort[-i-1]\n",
    "\n",
    "imu_active_r = set(receive_active_top)\n",
    "imu_active_s = set(send_active_top)\n"
   ]
  },
  {
   "cell_type": "markdown",
   "metadata": {},
   "source": [
    "### Start simulation"
   ]
  },
  {
   "cell_type": "code",
   "execution_count": 21,
   "metadata": {
    "collapsed": false
   },
   "outputs": [],
   "source": [
    "spread_empty = np.zeros([user_num, day])\n",
    "spread_early = np.zeros([user_num, day])\n",
    "spread_rdegree = np.zeros([user_num, day])\n",
    "spread_sdegree = np.zeros([user_num, day])\n",
    "spread_ractive = np.zeros([user_num, day])\n",
    "spread_sactive = np.zeros([user_num, day])\n",
    "spread_rfreq = np.zeros([user_num, day])\n",
    "spread_sfreq = np.zeros([user_num, day])\n",
    "for i in range(user_num):\n",
    "    spread_empty[i] = np.array(infection(user_set[i],dic,start_day,imu_empty))\n",
    "    spread_early[i] = np.array(infection(user_set[i],dic,start_day,imu_early))\n",
    "    spread_rdegree[i] = np.array(infection(user_set[i],dic,start_day,imu_degree_r))\n",
    "    spread_sdegree[i] = np.array(infection(user_set[i],dic,start_day,imu_degree_s))\n",
    "    spread_ractive[i] = np.array(infection(user_set[i],dic,start_day,imu_active_r))\n",
    "    spread_sactive[i] = np.array(infection(user_set[i],dic,start_day,imu_active_s))\n",
    "    spread_rfreq[i] = np.array(infection(user_set[i],dic,start_day,imu_freq_r))\n",
    "    spread_sfreq[i] = np.array(infection(user_set[i],dic,start_day,imu_freq_s))\n"
   ]
  },
  {
   "cell_type": "markdown",
   "metadata": {},
   "source": [
    "### Plot"
   ]
  },
  {
   "cell_type": "code",
   "execution_count": 20,
   "metadata": {
    "collapsed": false
   },
   "outputs": [
    {
     "data": {
      "image/png": "[encoded data removed]",
      "text/plain": [
       "<matplotlib.figure.Figure at 0x11795e1d0>"
      ]
     },
     "metadata": {},
     "output_type": "display_data"
    }
   ],
   "source": [
    "line_empty,=plt.plot(sum(spread_empty)/user_num,label=\"no immutation\")\n",
    "line_early,=plt.plot(sum(spread_early)/user_num,label=\"early user\")\n",
    "line_ra,=plt.plot(sum(spread_ractive)/user_num,label=\"receive activity\")\n",
    "line_sa,=plt.plot(sum(spread_sactive)/user_num,label=\"send activity\")\n",
    "line_rd,=plt.plot(sum(spread_rdegree)/user_num,label=\"receive degree\")\n",
    "line_sd,=plt.plot(sum(spread_sdegree)/user_num,label=\"send degree\")\n",
    "line_rf,=plt.plot(sum(spread_rfreq)/user_num,label=\"receive frequency\")\n",
    "line_sf,=plt.plot(sum(spread_sfreq)/user_num,label=\"send frequency\")\n",
    "plt.legend(handles=[line_empty, line_early, line_ra, line_sa, line_rd, line_sd, line_rf, line_sf],loc=\"lower right\")\n",
    "plt.xlabel(\"day\")\n",
    "plt.ylabel(\"average infect\")\n",
    "plt.title(\"Infection by different immutation\")\n",
    "plt.show()"
   ]
  }
 ],
 "metadata": {
  "kernelspec": {
   "display_name": "Python 3",
   "language": "python",
   "name": "python3"
  },
  "language_info": {
   "codemirror_mode": {
    "name": "ipython",
    "version": 3
   },
   "file_extension": ".py",
   "mimetype": "text/x-python",
   "name": "python",
   "nbconvert_exporter": "python",
   "pygments_lexer": "ipython3",
   "version": "3.6.0"
  }
 },
 "nbformat": 4,
 "nbformat_minor": 2
}
